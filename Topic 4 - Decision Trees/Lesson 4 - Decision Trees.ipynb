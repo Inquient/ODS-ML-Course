{
 "cells": [
  {
   "cell_type": "code",
   "execution_count": 1,
   "metadata": {},
   "outputs": [],
   "source": [
    "import pandas as pd\n",
    "import numpy as np\n",
    "%matplotlib inline\n",
    "import seaborn as sns\n",
    "import matplotlib.pyplot as plt\n",
    "sns.set(palette='deep', style='darkgrid', rc={\"figure.figsize\": (15, 4)})\n",
    "import scipy.stats as st\n",
    "\n",
    "import warnings\n",
    "warnings.simplefilter('ignore')"
   ]
  },
  {
   "cell_type": "code",
   "execution_count": 2,
   "metadata": {},
   "outputs": [],
   "source": [
    "from sklearn.model_selection import train_test_split, cross_val_score, GridSearchCV, RandomizedSearchCV\n",
    "from sklearn.tree import DecisionTreeClassifier, DecisionTreeRegressor, export_graphviz\n",
    "from sklearn.metrics import accuracy_score, f1_score, roc_auc_score, classification_report, confusion_matrix"
   ]
  },
  {
   "cell_type": "code",
   "execution_count": 3,
   "metadata": {},
   "outputs": [
    {
     "data": {
      "text/plain": [
       "(100000, 9)"
      ]
     },
     "execution_count": 3,
     "metadata": {},
     "output_type": "execute_result"
    }
   ],
   "source": [
    "# Загрузим данные и проведем все предобработки как на семинаре: \n",
    "data = pd.read_csv('flight_delays_train.csv')\n",
    "data['dep_delayed_15min'] = data['dep_delayed_15min'].apply(lambda x: 1 if x == 'Y' else 0)\n",
    "data['Month'] = data['Month'].str.replace('c-', '').astype('int16')\n",
    "data['DayofMonth'] = data['DayofMonth'].str.replace('c-', '').astype('int16')\n",
    "data['DayOfWeek'] = data['DayOfWeek'].str.replace('c-', '').astype('int16')\n",
    "data['UniqueCarrier'] = pd.factorize(data['UniqueCarrier'])[0]\n",
    "data['Origin'] = pd.factorize(data['Origin'])[0]\n",
    "data['Dest'] = pd.factorize(data['Dest'])[0]\n",
    "\n",
    "x = data.drop('dep_delayed_15min', axis=1)\n",
    "y = data['dep_delayed_15min'].values\n",
    "\n",
    "data.shape"
   ]
  },
  {
   "cell_type": "code",
   "execution_count": 4,
   "metadata": {},
   "outputs": [],
   "source": [
    "x_train, x_test, y_train, y_test = train_test_split(x, y, train_size=0.8, test_size=0.2, \\\n",
    "                                                    shuffle=True, random_state=18)"
   ]
  },
  {
   "cell_type": "code",
   "execution_count": 6,
   "metadata": {},
   "outputs": [
    {
     "data": {
      "text/plain": [
       "DecisionTreeClassifier(class_weight=None, criterion='gini', max_depth=8,\n",
       "            max_features=None, max_leaf_nodes=None,\n",
       "            min_impurity_decrease=0.0, min_impurity_split=None,\n",
       "            min_samples_leaf=1, min_samples_split=100,\n",
       "            min_weight_fraction_leaf=0.0, presort=False, random_state=None,\n",
       "            splitter='best')"
      ]
     },
     "execution_count": 6,
     "metadata": {},
     "output_type": "execute_result"
    }
   ],
   "source": [
    "tree = DecisionTreeClassifier(min_samples_split=100, max_depth=8)\n",
    "tree.fit(x_train, y_train)"
   ]
  },
  {
   "cell_type": "code",
   "execution_count": 7,
   "metadata": {},
   "outputs": [],
   "source": [
    "features = list(x.columns) \n",
    "export_graphviz(tree, feature_names=features,\n",
    "                      class_names=['Y','N'], out_file='tree.dot', filled=True)"
   ]
  },
  {
   "cell_type": "code",
   "execution_count": 9,
   "metadata": {},
   "outputs": [
    {
     "name": "stderr",
     "output_type": "stream",
     "text": [
      "\"dot\" ­Ґ пў«пҐвбп ў­гваҐ­­Ґ© Ё«Ё ў­Ґи­Ґ©\n",
      "Є®¬ ­¤®©, ЁбЇ®«­пҐ¬®© Їа®Ја ¬¬®© Ё«Ё Ї ЄҐв­л¬ д ©«®¬.\n"
     ]
    }
   ],
   "source": [
    "!dot -Tpng 'tree.dot' -o 'tree.png'"
   ]
  },
  {
   "cell_type": "code",
   "execution_count": 10,
   "metadata": {},
   "outputs": [
    {
     "name": "stdout",
     "output_type": "stream",
     "text": [
      "Accuracy 0.81605\n",
      "F1 0.10638814670876852\n"
     ]
    }
   ],
   "source": [
    "print('Accuracy', accuracy_score(y_test, tree.predict(x_test)))\n",
    "print('F1', f1_score(y_test, tree.predict(x_test)))"
   ]
  },
  {
   "cell_type": "code",
   "execution_count": 12,
   "metadata": {},
   "outputs": [
    {
     "name": "stdout",
     "output_type": "stream",
     "text": [
      "Accuracy 0.81125\n",
      "F1 0.14301929625425652\n"
     ]
    }
   ],
   "source": [
    "tree = DecisionTreeClassifier(criterion='entropy', min_samples_split=100, max_depth=4, min_samples_leaf=100)\n",
    "tree.fit(x_train, y_train)\n",
    "print('Accuracy', accuracy_score(y_test, tree.predict(x_test)))\n",
    "print('F1', f1_score(y_test, tree.predict(x_test)))"
   ]
  },
  {
   "cell_type": "code",
   "execution_count": 26,
   "metadata": {},
   "outputs": [],
   "source": [
    "params = {'criterion': ['entropy', 'gini'],\n",
    "        'max_depth': range(1,30)\n",
    "        }"
   ]
  },
  {
   "cell_type": "code",
   "execution_count": 27,
   "metadata": {},
   "outputs": [],
   "source": [
    "grid = GridSearchCV(tree, params, scoring='accuracy', cv=5, n_jobs=-1)"
   ]
  },
  {
   "cell_type": "code",
   "execution_count": 28,
   "metadata": {},
   "outputs": [
    {
     "data": {
      "text/plain": [
       "GridSearchCV(cv=5, error_score='raise',\n",
       "       estimator=DecisionTreeClassifier(class_weight=None, criterion='gini', max_depth=8,\n",
       "            max_features=None, max_leaf_nodes=None,\n",
       "            min_impurity_decrease=0.0, min_impurity_split=None,\n",
       "            min_samples_leaf=1, min_samples_split=100,\n",
       "            min_weight_fraction_leaf=0.0, presort=False, random_state=None,\n",
       "            splitter='best'),\n",
       "       fit_params=None, iid=True, n_jobs=-1,\n",
       "       param_grid={'criterion': ['entropy', 'gini'], 'max_depth': range(1, 30)},\n",
       "       pre_dispatch='2*n_jobs', refit=True, return_train_score='warn',\n",
       "       scoring='accuracy', verbose=0)"
      ]
     },
     "execution_count": 28,
     "metadata": {},
     "output_type": "execute_result"
    }
   ],
   "source": [
    "grid.fit(x,y)"
   ]
  },
  {
   "cell_type": "code",
   "execution_count": 29,
   "metadata": {},
   "outputs": [
    {
     "data": {
      "text/plain": [
       "{'mean_fit_time': array([0.03769517, 0.09235373, 0.17872128, 0.21342888, 0.28264384,\n",
       "        0.30558372, 0.34348164, 0.38636651, 0.43024864, 0.45019536,\n",
       "        0.48749647, 0.5132267 , 0.53875923, 0.57246852, 0.58124537,\n",
       "        0.59780145, 0.6241302 , 0.61655073, 0.64367819, 0.63649821,\n",
       "        0.65085802, 0.65185575, 0.65165796, 0.65524731, 0.66142936,\n",
       "        0.65644474, 0.6564446 , 0.67459555, 0.70611248, 0.06343002,\n",
       "        0.11828294, 0.16136885, 0.22280664, 0.25970635, 0.30119576,\n",
       "        0.34108829, 0.36801591, 0.42067537, 0.46914539, 0.51183271,\n",
       "        0.5218049 , 0.52798734, 0.55412226, 0.55072904, 0.56548781,\n",
       "        0.56648512, 0.57326732, 0.59979692, 0.64308028, 0.62732201,\n",
       "        0.59740267, 0.60219002, 0.60498219, 0.66003485, 0.66043253,\n",
       "        0.61814756, 0.61395755, 0.51981578]),\n",
       " 'std_fit_time': array([0.0013091 , 0.02385556, 0.01864128, 0.00574623, 0.01782508,\n",
       "        0.02256364, 0.01948923, 0.01174254, 0.02700272, 0.01918989,\n",
       "        0.01763236, 0.02342935, 0.01604861, 0.02134249, 0.0170812 ,\n",
       "        0.02264297, 0.02543762, 0.01552002, 0.02246604, 0.01294898,\n",
       "        0.02448384, 0.0210206 , 0.01694342, 0.02523033, 0.01918838,\n",
       "        0.01962888, 0.02380521, 0.02493363, 0.05086527, 0.00173913,\n",
       "        0.00804472, 0.01202349, 0.01961949, 0.02227965, 0.02055611,\n",
       "        0.01946152, 0.02250597, 0.01714137, 0.01744109, 0.02441725,\n",
       "        0.02669781, 0.0139293 , 0.01946395, 0.02456212, 0.01863794,\n",
       "        0.01571833, 0.01603631, 0.03059315, 0.0210188 , 0.02196953,\n",
       "        0.01289548, 0.02530397, 0.02599591, 0.03953415, 0.03138259,\n",
       "        0.01636822, 0.03455181, 0.04335124]),\n",
       " 'mean_score_time': array([0.00219889, 0.00458722, 0.00658207, 0.00638409, 0.00618324,\n",
       "        0.00598383, 0.00678267, 0.00718274, 0.00618348, 0.00678182,\n",
       "        0.00698075, 0.00678329, 0.00698152, 0.00718131, 0.00757966,\n",
       "        0.00718145, 0.00718255, 0.00797911, 0.00718122, 0.00757923,\n",
       "        0.00797911, 0.00718107, 0.00777822, 0.00738063, 0.00777974,\n",
       "        0.00798116, 0.00738068, 0.00778036, 0.00997295, 0.00638318,\n",
       "        0.00618405, 0.00598407, 0.00677981, 0.00698161, 0.00618467,\n",
       "        0.00598431, 0.00797963, 0.00678124, 0.00777898, 0.0075788 ,\n",
       "        0.00698195, 0.00777888, 0.0077754 , 0.00777726, 0.00797868,\n",
       "        0.00758061, 0.00797787, 0.008776  , 0.00817785, 0.00777807,\n",
       "        0.00777941, 0.00797863, 0.0095757 , 0.00877671, 0.00737991,\n",
       "        0.00817823, 0.00738096, 0.00578494]),\n",
       " 'std_score_time': array([3.97647152e-04, 1.73885589e-03, 1.01676589e-03, 1.01601996e-03,\n",
       "        1.93444131e-03, 6.30827825e-04, 3.98472577e-04, 1.59658196e-03,\n",
       "        3.99185092e-04, 7.45971753e-04, 9.48893964e-07, 3.99256934e-04,\n",
       "        8.91537254e-04, 7.45932472e-04, 1.01762596e-03, 9.77175600e-04,\n",
       "        4.00448555e-04, 1.09314578e-03, 3.98970719e-04, 7.97642141e-04,\n",
       "        8.91910762e-04, 3.98802910e-04, 7.45602415e-04, 4.88597113e-04,\n",
       "        3.98945962e-04, 6.29023268e-04, 4.88656066e-04, 7.45728868e-04,\n",
       "        6.30826989e-04, 5.33718011e-03, 1.16349050e-03, 1.26022090e-03,\n",
       "        1.32222406e-03, 8.91324623e-04, 7.46586462e-04, 2.13248060e-07,\n",
       "        2.52259008e-03, 7.44735069e-04, 1.46573312e-03, 7.98263663e-04,\n",
       "        6.30826701e-04, 7.46162169e-04, 9.76493482e-04, 7.45283305e-04,\n",
       "        1.54640430e-03, 4.88403438e-04, 1.09179643e-03, 1.46374881e-03,\n",
       "        3.98351417e-04, 7.45563642e-04, 3.98540839e-04, 6.31052813e-04,\n",
       "        1.84908822e-03, 1.93403786e-03, 1.01687949e-03, 3.99351248e-04,\n",
       "        1.19626628e-03, 1.16277921e-03]),\n",
       " 'param_criterion': masked_array(data=['entropy', 'entropy', 'entropy', 'entropy', 'entropy',\n",
       "                    'entropy', 'entropy', 'entropy', 'entropy', 'entropy',\n",
       "                    'entropy', 'entropy', 'entropy', 'entropy', 'entropy',\n",
       "                    'entropy', 'entropy', 'entropy', 'entropy', 'entropy',\n",
       "                    'entropy', 'entropy', 'entropy', 'entropy', 'entropy',\n",
       "                    'entropy', 'entropy', 'entropy', 'entropy', 'gini',\n",
       "                    'gini', 'gini', 'gini', 'gini', 'gini', 'gini', 'gini',\n",
       "                    'gini', 'gini', 'gini', 'gini', 'gini', 'gini', 'gini',\n",
       "                    'gini', 'gini', 'gini', 'gini', 'gini', 'gini', 'gini',\n",
       "                    'gini', 'gini', 'gini', 'gini', 'gini', 'gini', 'gini'],\n",
       "              mask=[False, False, False, False, False, False, False, False,\n",
       "                    False, False, False, False, False, False, False, False,\n",
       "                    False, False, False, False, False, False, False, False,\n",
       "                    False, False, False, False, False, False, False, False,\n",
       "                    False, False, False, False, False, False, False, False,\n",
       "                    False, False, False, False, False, False, False, False,\n",
       "                    False, False, False, False, False, False, False, False,\n",
       "                    False, False],\n",
       "        fill_value='?',\n",
       "             dtype=object),\n",
       " 'param_max_depth': masked_array(data=[1, 2, 3, 4, 5, 6, 7, 8, 9, 10, 11, 12, 13, 14, 15, 16,\n",
       "                    17, 18, 19, 20, 21, 22, 23, 24, 25, 26, 27, 28, 29, 1,\n",
       "                    2, 3, 4, 5, 6, 7, 8, 9, 10, 11, 12, 13, 14, 15, 16, 17,\n",
       "                    18, 19, 20, 21, 22, 23, 24, 25, 26, 27, 28, 29],\n",
       "              mask=[False, False, False, False, False, False, False, False,\n",
       "                    False, False, False, False, False, False, False, False,\n",
       "                    False, False, False, False, False, False, False, False,\n",
       "                    False, False, False, False, False, False, False, False,\n",
       "                    False, False, False, False, False, False, False, False,\n",
       "                    False, False, False, False, False, False, False, False,\n",
       "                    False, False, False, False, False, False, False, False,\n",
       "                    False, False],\n",
       "        fill_value='?',\n",
       "             dtype=object),\n",
       " 'params': [{'criterion': 'entropy', 'max_depth': 1},\n",
       "  {'criterion': 'entropy', 'max_depth': 2},\n",
       "  {'criterion': 'entropy', 'max_depth': 3},\n",
       "  {'criterion': 'entropy', 'max_depth': 4},\n",
       "  {'criterion': 'entropy', 'max_depth': 5},\n",
       "  {'criterion': 'entropy', 'max_depth': 6},\n",
       "  {'criterion': 'entropy', 'max_depth': 7},\n",
       "  {'criterion': 'entropy', 'max_depth': 8},\n",
       "  {'criterion': 'entropy', 'max_depth': 9},\n",
       "  {'criterion': 'entropy', 'max_depth': 10},\n",
       "  {'criterion': 'entropy', 'max_depth': 11},\n",
       "  {'criterion': 'entropy', 'max_depth': 12},\n",
       "  {'criterion': 'entropy', 'max_depth': 13},\n",
       "  {'criterion': 'entropy', 'max_depth': 14},\n",
       "  {'criterion': 'entropy', 'max_depth': 15},\n",
       "  {'criterion': 'entropy', 'max_depth': 16},\n",
       "  {'criterion': 'entropy', 'max_depth': 17},\n",
       "  {'criterion': 'entropy', 'max_depth': 18},\n",
       "  {'criterion': 'entropy', 'max_depth': 19},\n",
       "  {'criterion': 'entropy', 'max_depth': 20},\n",
       "  {'criterion': 'entropy', 'max_depth': 21},\n",
       "  {'criterion': 'entropy', 'max_depth': 22},\n",
       "  {'criterion': 'entropy', 'max_depth': 23},\n",
       "  {'criterion': 'entropy', 'max_depth': 24},\n",
       "  {'criterion': 'entropy', 'max_depth': 25},\n",
       "  {'criterion': 'entropy', 'max_depth': 26},\n",
       "  {'criterion': 'entropy', 'max_depth': 27},\n",
       "  {'criterion': 'entropy', 'max_depth': 28},\n",
       "  {'criterion': 'entropy', 'max_depth': 29},\n",
       "  {'criterion': 'gini', 'max_depth': 1},\n",
       "  {'criterion': 'gini', 'max_depth': 2},\n",
       "  {'criterion': 'gini', 'max_depth': 3},\n",
       "  {'criterion': 'gini', 'max_depth': 4},\n",
       "  {'criterion': 'gini', 'max_depth': 5},\n",
       "  {'criterion': 'gini', 'max_depth': 6},\n",
       "  {'criterion': 'gini', 'max_depth': 7},\n",
       "  {'criterion': 'gini', 'max_depth': 8},\n",
       "  {'criterion': 'gini', 'max_depth': 9},\n",
       "  {'criterion': 'gini', 'max_depth': 10},\n",
       "  {'criterion': 'gini', 'max_depth': 11},\n",
       "  {'criterion': 'gini', 'max_depth': 12},\n",
       "  {'criterion': 'gini', 'max_depth': 13},\n",
       "  {'criterion': 'gini', 'max_depth': 14},\n",
       "  {'criterion': 'gini', 'max_depth': 15},\n",
       "  {'criterion': 'gini', 'max_depth': 16},\n",
       "  {'criterion': 'gini', 'max_depth': 17},\n",
       "  {'criterion': 'gini', 'max_depth': 18},\n",
       "  {'criterion': 'gini', 'max_depth': 19},\n",
       "  {'criterion': 'gini', 'max_depth': 20},\n",
       "  {'criterion': 'gini', 'max_depth': 21},\n",
       "  {'criterion': 'gini', 'max_depth': 22},\n",
       "  {'criterion': 'gini', 'max_depth': 23},\n",
       "  {'criterion': 'gini', 'max_depth': 24},\n",
       "  {'criterion': 'gini', 'max_depth': 25},\n",
       "  {'criterion': 'gini', 'max_depth': 26},\n",
       "  {'criterion': 'gini', 'max_depth': 27},\n",
       "  {'criterion': 'gini', 'max_depth': 28},\n",
       "  {'criterion': 'gini', 'max_depth': 29}],\n",
       " 'split0_test_score': array([0.80955952, 0.80955952, 0.81045948, 0.81105945, 0.81180941,\n",
       "        0.81240938, 0.81360932, 0.81520924, 0.81495925, 0.81435928,\n",
       "        0.81455927, 0.81460927, 0.81340933, 0.81310934, 0.81300935,\n",
       "        0.81245938, 0.80985951, 0.80975951, 0.8079096 , 0.8079096 ,\n",
       "        0.80760962, 0.80710964, 0.80655967, 0.80630968, 0.80620969,\n",
       "        0.80575971, 0.80575971, 0.80570971, 0.8059597 , 0.80955952,\n",
       "        0.80955952, 0.81045948, 0.8119094 , 0.8119094 , 0.81175941,\n",
       "        0.81545923, 0.81435928, 0.81370931, 0.81355932, 0.81255937,\n",
       "        0.81175941, 0.81140943, 0.81150942, 0.8100595 , 0.80920954,\n",
       "        0.80645968, 0.80580971, 0.80460977, 0.80425979, 0.80410979,\n",
       "        0.80385981, 0.8039098 , 0.80380981, 0.8040098 , 0.8040598 ,\n",
       "        0.8039098 , 0.80380981, 0.8040098 ]),\n",
       " 'split1_test_score': array([0.80955, 0.80955, 0.80975, 0.81085, 0.812  , 0.81315, 0.81345,\n",
       "        0.8145 , 0.81575, 0.81485, 0.8125 , 0.81105, 0.8098 , 0.808  ,\n",
       "        0.80625, 0.80395, 0.80245, 0.8024 , 0.80225, 0.80055, 0.79945,\n",
       "        0.79895, 0.7987 , 0.79765, 0.79715, 0.7967 , 0.7967 , 0.7968 ,\n",
       "        0.79665, 0.80955, 0.80975, 0.81085, 0.81055, 0.8121 , 0.814  ,\n",
       "        0.81395, 0.81525, 0.81405, 0.81305, 0.8137 , 0.81195, 0.8111 ,\n",
       "        0.8104 , 0.8085 , 0.8072 , 0.80715, 0.80625, 0.8058 , 0.8057 ,\n",
       "        0.80455, 0.80455, 0.80335, 0.80375, 0.80335, 0.80375, 0.8036 ,\n",
       "        0.80335, 0.8032 ]),\n",
       " 'split2_test_score': array([0.80955, 0.80955, 0.80965, 0.81265, 0.81175, 0.8138 , 0.81435,\n",
       "        0.8161 , 0.81455, 0.8154 , 0.81485, 0.81395, 0.81325, 0.81235,\n",
       "        0.80965, 0.80905, 0.8092 , 0.8082 , 0.8068 , 0.8064 , 0.8061 ,\n",
       "        0.8067 , 0.806  , 0.80605, 0.80555, 0.8055 , 0.80605, 0.8056 ,\n",
       "        0.8057 , 0.80955, 0.80955, 0.80965, 0.8126 , 0.8116 , 0.8137 ,\n",
       "        0.81465, 0.81555, 0.81395, 0.81385, 0.81295, 0.81135, 0.80975,\n",
       "        0.8084 , 0.80715, 0.8068 , 0.8068 , 0.806  , 0.8043 , 0.8041 ,\n",
       "        0.80415, 0.804  , 0.80325, 0.80335, 0.80335, 0.80335, 0.8034 ,\n",
       "        0.8034 , 0.80335]),\n",
       " 'split3_test_score': array([0.80955, 0.80955, 0.8093 , 0.811  , 0.8116 , 0.813  , 0.81375,\n",
       "        0.815  , 0.8156 , 0.8145 , 0.8127 , 0.81205, 0.81085, 0.80845,\n",
       "        0.8053 , 0.80405, 0.8028 , 0.8025 , 0.80135, 0.80165, 0.80155,\n",
       "        0.80085, 0.80105, 0.8007 , 0.8004 , 0.8006 , 0.80055, 0.8004 ,\n",
       "        0.8003 , 0.80955, 0.8093 , 0.81015, 0.811  , 0.81165, 0.81265,\n",
       "        0.81395, 0.8152 , 0.81555, 0.8144 , 0.8125 , 0.8121 , 0.8096 ,\n",
       "        0.8078 , 0.807  , 0.8062 , 0.8054 , 0.80415, 0.80415, 0.80425,\n",
       "        0.80365, 0.80365, 0.80335, 0.8034 , 0.8033 , 0.8035 , 0.8035 ,\n",
       "        0.8034 , 0.80335]),\n",
       " 'split4_test_score': array([0.80959048, 0.80959048, 0.81084054, 0.81089054, 0.81279064,\n",
       "        0.81444072, 0.81444072, 0.81479074, 0.81484074, 0.81459073,\n",
       "        0.81474074, 0.81439072, 0.81324066, 0.8119906 , 0.80974049,\n",
       "        0.80964048, 0.80879044, 0.80739037, 0.80664033, 0.80669033,\n",
       "        0.80714036, 0.80719036, 0.80694035, 0.80639032, 0.80694035,\n",
       "        0.80624031, 0.8060903 , 0.80654033, 0.80664033, 0.80959048,\n",
       "        0.80959048, 0.81084054, 0.81089054, 0.81279064, 0.81439072,\n",
       "        0.81424071, 0.81534077, 0.8139907 , 0.81274064, 0.81264063,\n",
       "        0.81094055, 0.81109055, 0.81029051, 0.80859043, 0.80769038,\n",
       "        0.80584029, 0.80359018, 0.80309015, 0.80324016, 0.80314016,\n",
       "        0.80319016, 0.80299015, 0.80294015, 0.80279014, 0.80284014,\n",
       "        0.80279014, 0.80279014, 0.80259013]),\n",
       " 'mean_test_score': array([0.80956, 0.80956, 0.81   , 0.81129, 0.81199, 0.81336, 0.81392,\n",
       "        0.81512, 0.81514, 0.81474, 0.81387, 0.81321, 0.81211, 0.81078,\n",
       "        0.80879, 0.80783, 0.80662, 0.80605, 0.80499, 0.80464, 0.80437,\n",
       "        0.80416, 0.80385, 0.80342, 0.80325, 0.80296, 0.80303, 0.80301,\n",
       "        0.80305, 0.80956, 0.80955, 0.81039, 0.81139, 0.81201, 0.8133 ,\n",
       "        0.81445, 0.81514, 0.81425, 0.81352, 0.81287, 0.81162, 0.81059,\n",
       "        0.80968, 0.80826, 0.80742, 0.80633, 0.80516, 0.80439, 0.80431,\n",
       "        0.80392, 0.80385, 0.80337, 0.80345, 0.80336, 0.8035 , 0.80344,\n",
       "        0.80335, 0.8033 ]),\n",
       " 'std_test_score': array([1.56791799e-05, 1.56791799e-05, 5.64376695e-04, 6.84107306e-04,\n",
       "        4.20334666e-04, 6.98416234e-04, 4.00590828e-04, 5.43244167e-04,\n",
       "        4.59134471e-04, 3.66751680e-04, 1.04302107e-03, 1.40789787e-03,\n",
       "        1.49599294e-03, 2.12197056e-03, 2.75965509e-03, 3.33289917e-03,\n",
       "        3.28156069e-03, 3.03661549e-03, 2.65636128e-03, 2.95500625e-03,\n",
       "        3.26563481e-03, 3.53370224e-03, 3.34297642e-03, 3.59947916e-03,\n",
       "        3.82101244e-03, 3.73650875e-03, 3.79885235e-03, 3.79040126e-03,\n",
       "        3.92177584e-03, 1.56791799e-05, 1.44380874e-04, 4.52682067e-04,\n",
       "        7.53795443e-04, 4.30183115e-04, 9.62874819e-04, 5.66107658e-04,\n",
       "        4.08327419e-04, 6.60240677e-04, 5.85341365e-04, 4.43012775e-04,\n",
       "        4.22674803e-04, 7.57342807e-04, 1.37192353e-03, 1.11578041e-03,\n",
       "        1.01950144e-03, 6.34794280e-04, 1.07704751e-03, 8.70817418e-04,\n",
       "        7.90799288e-04, 4.83083521e-04, 4.44514091e-04, 3.00294076e-04,\n",
       "        3.13657913e-04, 3.87501035e-04, 4.08357481e-04, 3.67103489e-04,\n",
       "        3.25534470e-04, 4.52267942e-04]),\n",
       " 'rank_test_score': array([25, 25, 23, 19, 16, 10,  7,  3,  1,  4,  8, 12, 14, 20, 29, 31, 33,\n",
       "        35, 37, 38, 40, 42, 44, 49, 54, 58, 56, 57, 55, 25, 28, 22, 18, 15,\n",
       "        11,  5,  1,  6,  9, 13, 17, 21, 24, 30, 32, 34, 36, 39, 41, 43, 44,\n",
       "        50, 47, 51, 46, 48, 52, 53]),\n",
       " 'split0_train_score': array([0.80956012, 0.80956012, 0.80989762, 0.81142264, 0.81333517,\n",
       "        0.81478518, 0.81518519, 0.81686021, 0.81826023, 0.81933524,\n",
       "        0.82059776, 0.82274778, 0.8238603 , 0.82504781, 0.82632283,\n",
       "        0.82711034, 0.82831035, 0.82904786, 0.82991037, 0.83053538,\n",
       "        0.83126039, 0.83158539, 0.8317729 , 0.8318979 , 0.8322104 ,\n",
       "        0.8322854 , 0.8323729 , 0.8323104 , 0.8323479 , 0.80956012,\n",
       "        0.80956012, 0.80989762, 0.81156014, 0.81322267, 0.81401018,\n",
       "        0.81644771, 0.81712271, 0.81896024, 0.82054776, 0.82222278,\n",
       "        0.82353529, 0.82488531, 0.82618533, 0.82716034, 0.82779785,\n",
       "        0.82888536, 0.82944787, 0.82971037, 0.82987287, 0.83007288,\n",
       "        0.83003538, 0.83028538, 0.83028538, 0.83026038, 0.83031038,\n",
       "        0.83036038, 0.83031038, 0.83029788]),\n",
       " 'split1_train_score': array([0.8095625, 0.8095625, 0.8100625, 0.8106375, 0.813225 , 0.81405  ,\n",
       "        0.8155   , 0.81675  , 0.81845  , 0.8203875, 0.8223625, 0.8241125,\n",
       "        0.8253125, 0.8269   , 0.827925 , 0.829525 , 0.8304   , 0.831    ,\n",
       "        0.8315125, 0.8322875, 0.8325625, 0.8327125, 0.8328375, 0.8330875,\n",
       "        0.8333125, 0.8333375, 0.8333375, 0.8333   , 0.8333625, 0.8095625,\n",
       "        0.8100625, 0.8106375, 0.810825 , 0.81345  , 0.8148125, 0.816075 ,\n",
       "        0.8168375, 0.8193   , 0.8202875, 0.8222125, 0.8239   , 0.825225 ,\n",
       "        0.8263   , 0.8277   , 0.828725 , 0.8294375, 0.82995  , 0.8302125,\n",
       "        0.8307   , 0.8311375, 0.831225 , 0.8315   , 0.831675 , 0.831875 ,\n",
       "        0.8318625, 0.8318875, 0.8319   , 0.8319625]),\n",
       " 'split2_train_score': array([0.8095625, 0.8095625, 0.8101   , 0.812025 , 0.813    , 0.815325 ,\n",
       "        0.81605  , 0.8181875, 0.8191125, 0.820875 , 0.8219625, 0.823625 ,\n",
       "        0.824425 , 0.8253875, 0.82705  , 0.8279625, 0.828875 , 0.8298   ,\n",
       "        0.8304375, 0.831025 , 0.83155  , 0.8319625, 0.832175 , 0.8323625,\n",
       "        0.8325875, 0.83265  , 0.8325625, 0.8326   , 0.832725 , 0.8095625,\n",
       "        0.8095625, 0.8101   , 0.8120375, 0.8131   , 0.8155   , 0.8167625,\n",
       "        0.818375 , 0.8194125, 0.8207   , 0.8219875, 0.8235125, 0.825    ,\n",
       "        0.8258125, 0.82735  , 0.8282625, 0.82905  , 0.829725 , 0.83045  ,\n",
       "        0.831    , 0.831225 , 0.8313   , 0.8314125, 0.83155  , 0.8315375,\n",
       "        0.8315375, 0.8315375, 0.8315375, 0.8315375]),\n",
       " 'split3_train_score': array([0.8095625, 0.8095625, 0.8101875, 0.8124   , 0.813675 , 0.815425 ,\n",
       "        0.8171   , 0.8185625, 0.8199625, 0.8216875, 0.8236125, 0.82455  ,\n",
       "        0.8252875, 0.8263625, 0.827575 , 0.8284125, 0.8290625, 0.829675 ,\n",
       "        0.8302875, 0.8304125, 0.8308875, 0.8310625, 0.8313625, 0.8317   ,\n",
       "        0.831825 , 0.8318375, 0.831825 , 0.83175  , 0.8316875, 0.8095625,\n",
       "        0.8101875, 0.8108375, 0.8124   , 0.813725 , 0.8156625, 0.8173625,\n",
       "        0.818825 , 0.820175 , 0.8222875, 0.82415  , 0.8252   , 0.8265625,\n",
       "        0.82755  , 0.8286625, 0.8294125, 0.8299375, 0.830275 , 0.830525 ,\n",
       "        0.83085  , 0.8311125, 0.8313375, 0.8314875, 0.83145  , 0.8315125,\n",
       "        0.8314   , 0.8314125, 0.8314875, 0.831525 ]),\n",
       " 'split4_train_score': array([0.80955238, 0.80955238, 0.80980238, 0.81065237, 0.81301484,\n",
       "        0.81477732, 0.8163023 , 0.81697729, 0.81872727, 0.81972725,\n",
       "        0.82091474, 0.82252722, 0.82358971, 0.82472719, 0.82617717,\n",
       "        0.82743966, 0.82862714, 0.82935213, 0.82987713, 0.83037712,\n",
       "        0.83077712, 0.83112711, 0.83111461, 0.83122711, 0.8316771 ,\n",
       "        0.8317396 , 0.8317021 , 0.8317146 , 0.8317646 , 0.80955238,\n",
       "        0.80955238, 0.80980238, 0.81065237, 0.81301484, 0.81480231,\n",
       "        0.81655229, 0.81796478, 0.81955226, 0.82076474, 0.82233972,\n",
       "        0.82347721, 0.82446469, 0.82572718, 0.82705216, 0.82811465,\n",
       "        0.82881464, 0.82970213, 0.83015212, 0.83037712, 0.83073962,\n",
       "        0.83088961, 0.83125211, 0.83122711, 0.83132711, 0.83123961,\n",
       "        0.83138961, 0.83138961, 0.83141461]),\n",
       " 'mean_train_score': array([0.80956  , 0.80956  , 0.81001  , 0.8114275, 0.81325  , 0.8148725,\n",
       "        0.8160275, 0.8174675, 0.8189025, 0.8204025, 0.82189  , 0.8235125,\n",
       "        0.824495 , 0.825685 , 0.82701  , 0.82809  , 0.829055 , 0.829775 ,\n",
       "        0.830405 , 0.8309275, 0.8314075, 0.83169  , 0.8318525, 0.832055 ,\n",
       "        0.8323225, 0.83237  , 0.83236  , 0.832335 , 0.8323775, 0.80956  ,\n",
       "        0.809785 , 0.810255 , 0.811495 , 0.8133025, 0.8149575, 0.81664  ,\n",
       "        0.817825 , 0.81948  , 0.8209175, 0.8225825, 0.823925 , 0.8252275,\n",
       "        0.826315 , 0.827585 , 0.8284625, 0.829225 , 0.82982  , 0.83021  ,\n",
       "        0.83056  , 0.8308575, 0.8309575, 0.8311875, 0.8312375, 0.8313025,\n",
       "        0.83127  , 0.8313175, 0.831325 , 0.8313475]),\n",
       " 'std_train_score': array([3.91968390e-06, 3.91968390e-06, 1.40070013e-04, 7.11015823e-04,\n",
       "        2.47509537e-04, 4.90551286e-04, 6.65434920e-04, 7.53835459e-04,\n",
       "        6.02607042e-04, 8.33031153e-04, 1.07856797e-03, 7.75194471e-04,\n",
       "        7.10446002e-04, 8.18186153e-04, 6.81741168e-04, 8.44057987e-04,\n",
       "        7.18197943e-04, 6.66152308e-04, 5.94091600e-04, 7.18471412e-04,\n",
       "        6.39336729e-04, 6.06845140e-04, 6.10761482e-04, 6.31936820e-04,\n",
       "        5.87696013e-04, 5.83535622e-04, 5.85786914e-04, 5.88076815e-04,\n",
       "        6.23474130e-04, 3.91968390e-06, 2.80428877e-04, 4.10419897e-04,\n",
       "        6.74760059e-04, 2.57057251e-04, 5.88874020e-04, 4.24477829e-04,\n",
       "        7.47047388e-04, 3.98837234e-04, 7.04436190e-04, 7.92000389e-04,\n",
       "        6.55560196e-04, 7.11751848e-04, 6.54263781e-04, 5.82015341e-04,\n",
       "        5.61100677e-04, 4.16458302e-04, 2.77606120e-04, 2.86289973e-04,\n",
       "        4.00721334e-04, 4.26148544e-04, 4.87480200e-04, 4.59625651e-04,\n",
       "        4.98169034e-04, 5.50218967e-04, 5.21787079e-04, 5.10608295e-04,\n",
       "        5.35876416e-04, 5.57142615e-04])}"
      ]
     },
     "execution_count": 29,
     "metadata": {},
     "output_type": "execute_result"
    }
   ],
   "source": [
    "grid.cv_results_"
   ]
  },
  {
   "cell_type": "code",
   "execution_count": 30,
   "metadata": {},
   "outputs": [
    {
     "data": {
      "text/plain": [
       "DecisionTreeClassifier(class_weight=None, criterion='entropy', max_depth=9,\n",
       "            max_features=None, max_leaf_nodes=None,\n",
       "            min_impurity_decrease=0.0, min_impurity_split=None,\n",
       "            min_samples_leaf=1, min_samples_split=100,\n",
       "            min_weight_fraction_leaf=0.0, presort=False, random_state=None,\n",
       "            splitter='best')"
      ]
     },
     "execution_count": 30,
     "metadata": {},
     "output_type": "execute_result"
    }
   ],
   "source": [
    "grid.best_estimator_"
   ]
  },
  {
   "cell_type": "code",
   "execution_count": 31,
   "metadata": {},
   "outputs": [
    {
     "data": {
      "text/plain": [
       "0.81514"
      ]
     },
     "execution_count": 31,
     "metadata": {},
     "output_type": "execute_result"
    }
   ],
   "source": [
    "grid.best_score_"
   ]
  },
  {
   "cell_type": "code",
   "execution_count": 32,
   "metadata": {},
   "outputs": [
    {
     "data": {
      "text/plain": [
       "{'criterion': 'entropy', 'max_depth': 9}"
      ]
     },
     "execution_count": 32,
     "metadata": {},
     "output_type": "execute_result"
    }
   ],
   "source": [
    "grid.best_params_"
   ]
  },
  {
   "cell_type": "code",
   "execution_count": null,
   "metadata": {},
   "outputs": [],
   "source": []
  }
 ],
 "metadata": {
  "kernelspec": {
   "display_name": "Python 3",
   "language": "python",
   "name": "python3"
  },
  "language_info": {
   "codemirror_mode": {
    "name": "ipython",
    "version": 3
   },
   "file_extension": ".py",
   "mimetype": "text/x-python",
   "name": "python",
   "nbconvert_exporter": "python",
   "pygments_lexer": "ipython3",
   "version": "3.6.5"
  }
 },
 "nbformat": 4,
 "nbformat_minor": 2
}
