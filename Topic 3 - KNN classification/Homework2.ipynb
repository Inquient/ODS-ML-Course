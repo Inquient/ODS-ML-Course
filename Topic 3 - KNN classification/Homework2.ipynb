{
 "cells": [
  {
   "cell_type": "code",
   "execution_count": 1,
   "metadata": {},
   "outputs": [],
   "source": [
    "import pandas as pd\n",
    "import numpy as np\n",
    "%matplotlib inline\n",
    "import seaborn as sns\n",
    "import matplotlib.pyplot as plt\n",
    "sns.set(palette='deep', style='darkgrid', rc={\"figure.figsize\": (15, 4)})\n",
    "import scipy.stats as st\n",
    "\n",
    "import warnings\n",
    "warnings.simplefilter('ignore')"
   ]
  },
  {
   "cell_type": "code",
   "execution_count": 2,
   "metadata": {},
   "outputs": [],
   "source": [
    "from sklearn.model_selection import train_test_split, cross_val_score, GridSearchCV\n",
    "from sklearn.neighbors import KNeighborsClassifier\n",
    "from sklearn.metrics import accuracy_score, f1_score, roc_auc_score, classification_report, confusion_matrix"
   ]
  },
  {
   "cell_type": "code",
   "execution_count": 3,
   "metadata": {},
   "outputs": [
    {
     "data": {
      "text/plain": [
       "(100000, 9)"
      ]
     },
     "execution_count": 3,
     "metadata": {},
     "output_type": "execute_result"
    }
   ],
   "source": [
    "data = pd.read_csv('flight_delays_train.csv')\n",
    "data['dep_delayed_15min'] = data['dep_delayed_15min'].apply(lambda x: 1 if x == 'Y' else 0)\n",
    "data['Month'] = data['Month'].str.replace('c-', '').astype('int16')\n",
    "data['DayofMonth'] = data['DayofMonth'].str.replace('c-', '').astype('int16')\n",
    "data['DayOfWeek'] = data['DayOfWeek'].str.replace('c-', '').astype('int16')\n",
    "data['UniqueCarrier'] = pd.factorize(data['UniqueCarrier'])[0]\n",
    "data['Origin'] = pd.factorize(data['Origin'])[0]\n",
    "data['Dest'] = pd.factorize(data['Dest'])[0]\n",
    "\n",
    "x = data.drop('dep_delayed_15min', axis=1)\n",
    "y = data['dep_delayed_15min'].values\n",
    "\n",
    "data.shape"
   ]
  },
  {
   "cell_type": "code",
   "execution_count": 4,
   "metadata": {},
   "outputs": [],
   "source": [
    "#Разделим выборку на обущающую и тестовую\n",
    "x_train, x_test, y_train, y_test = train_test_split(x, y, train_size=0.8, test_size=0.2, \\\n",
    "                                                    shuffle=True, random_state=18)"
   ]
  },
  {
   "cell_type": "code",
   "execution_count": 7,
   "metadata": {},
   "outputs": [],
   "source": [
    "# Классификатор: \n",
    "knn = KNeighborsClassifier()\n",
    "\n",
    "# Параметры для проверки:\n",
    "params = {'n_neighbors': [3,5,7,9,15],\n",
    "          'weights': ('uniform', 'distance'),\n",
    "          'metric': ('euclidean', 'minkowski', 'manhattan', 'chebyshev' )\n",
    "        }"
   ]
  },
  {
   "cell_type": "code",
   "execution_count": 16,
   "metadata": {},
   "outputs": [],
   "source": [
    "def cros_val(scoring, metric, weights, x, y, fold):\n",
    "    est = KNeighborsClassifier(metric = metric, weights = weights)\n",
    "    result = cross_val_score(est, x, y, scoring=scoring, cv=fold)\n",
    "    return np.round(np.mean(result), decimals=2)"
   ]
  },
  {
   "cell_type": "code",
   "execution_count": 32,
   "metadata": {},
   "outputs": [
    {
     "name": "stdout",
     "output_type": "stream",
     "text": [
      "F1:  0.25\n",
      "F1:  0.26\n",
      "F1:  0.26\n",
      "F1:  0.27\n",
      "F1:  0.27\n"
     ]
    }
   ],
   "source": [
    "print('F1: ', cros_val('f1', 'euclidean', 'uniform', x_train, y_train, 3))\n",
    "print('F1: ', cros_val('f1', 'euclidean', 'uniform', x_train, y_train, 5))\n",
    "print('F1: ', cros_val('f1', 'euclidean', 'uniform', x_train, y_train, 7))\n",
    "print('F1: ', cros_val('f1', 'euclidean', 'uniform', x_train, y_train, 9))\n",
    "print('F1: ', cros_val('f1', 'euclidean', 'uniform', x_train, y_train, 15))"
   ]
  },
  {
   "cell_type": "code",
   "execution_count": 20,
   "metadata": {},
   "outputs": [
    {
     "name": "stdout",
     "output_type": "stream",
     "text": [
      "F1:  0.28\n",
      "F1:  0.29\n",
      "F1:  0.3\n",
      "F1:  0.3\n",
      "F1:  0.3\n"
     ]
    }
   ],
   "source": [
    "print('F1: ', cros_val('f1', 'euclidean', 'distance', x_train, y_train, 3))\n",
    "print('F1: ', cros_val('f1', 'euclidean', 'distance', x_train, y_train, 5))\n",
    "print('F1: ', cros_val('f1', 'euclidean', 'distance', x_train, y_train, 7))\n",
    "print('F1: ', cros_val('f1', 'euclidean', 'distance', x_train, y_train, 9))\n",
    "print('F1: ', cros_val('f1', 'euclidean', 'distance', x_train, y_train, 15))"
   ]
  },
  {
   "cell_type": "code",
   "execution_count": 21,
   "metadata": {},
   "outputs": [
    {
     "name": "stdout",
     "output_type": "stream",
     "text": [
      "F1:  0.25\n",
      "F1:  0.26\n",
      "F1:  0.26\n",
      "F1:  0.27\n",
      "F1:  0.27\n"
     ]
    }
   ],
   "source": [
    "print('F1: ', cros_val('f1', 'minkowski', 'uniform', x_train, y_train, 3))\n",
    "print('F1: ', cros_val('f1', 'minkowski', 'uniform', x_train, y_train, 5))\n",
    "print('F1: ', cros_val('f1', 'minkowski', 'uniform', x_train, y_train, 7))\n",
    "print('F1: ', cros_val('f1', 'minkowski', 'uniform', x_train, y_train, 9))\n",
    "print('F1: ', cros_val('f1', 'minkowski', 'uniform', x_train, y_train, 15))"
   ]
  },
  {
   "cell_type": "code",
   "execution_count": 22,
   "metadata": {},
   "outputs": [
    {
     "name": "stdout",
     "output_type": "stream",
     "text": [
      "F1:  0.28\n",
      "F1:  0.29\n",
      "F1:  0.3\n",
      "F1:  0.3\n",
      "F1:  0.3\n"
     ]
    }
   ],
   "source": [
    "print('F1: ', cros_val('f1', 'minkowski', 'distance', x_train, y_train, 3))\n",
    "print('F1: ', cros_val('f1', 'minkowski', 'distance', x_train, y_train, 5))\n",
    "print('F1: ', cros_val('f1', 'minkowski', 'distance', x_train, y_train, 7))\n",
    "print('F1: ', cros_val('f1', 'minkowski', 'distance', x_train, y_train, 9))\n",
    "print('F1: ', cros_val('f1', 'minkowski', 'distance', x_train, y_train, 15))"
   ]
  },
  {
   "cell_type": "code",
   "execution_count": 23,
   "metadata": {},
   "outputs": [
    {
     "name": "stdout",
     "output_type": "stream",
     "text": [
      "F1:  0.25\n",
      "F1:  0.26\n",
      "F1:  0.26\n",
      "F1:  0.27\n",
      "F1:  0.27\n"
     ]
    }
   ],
   "source": [
    "print('F1: ', cros_val('f1', 'manhattan', 'uniform', x_train, y_train, 3))\n",
    "print('F1: ', cros_val('f1', 'manhattan', 'uniform', x_train, y_train, 5))\n",
    "print('F1: ', cros_val('f1', 'manhattan', 'uniform', x_train, y_train, 7))\n",
    "print('F1: ', cros_val('f1', 'manhattan', 'uniform', x_train, y_train, 9))\n",
    "print('F1: ', cros_val('f1', 'manhattan', 'uniform', x_train, y_train, 15))"
   ]
  },
  {
   "cell_type": "code",
   "execution_count": 24,
   "metadata": {},
   "outputs": [
    {
     "name": "stdout",
     "output_type": "stream",
     "text": [
      "F1:  0.29\n",
      "F1:  0.3\n",
      "F1:  0.31\n",
      "F1:  0.31\n",
      "F1:  0.31\n"
     ]
    }
   ],
   "source": [
    "print('F1: ', cros_val('f1', 'manhattan', 'distance', x_train, y_train, 3))\n",
    "print('F1: ', cros_val('f1', 'manhattan', 'distance', x_train, y_train, 5))\n",
    "print('F1: ', cros_val('f1', 'manhattan', 'distance', x_train, y_train, 7))\n",
    "print('F1: ', cros_val('f1', 'manhattan', 'distance', x_train, y_train, 9))\n",
    "print('F1: ', cros_val('f1', 'manhattan', 'distance', x_train, y_train, 15))"
   ]
  },
  {
   "cell_type": "code",
   "execution_count": 25,
   "metadata": {},
   "outputs": [
    {
     "name": "stdout",
     "output_type": "stream",
     "text": [
      "F1:  0.25\n",
      "F1:  0.26\n",
      "F1:  0.27\n",
      "F1:  0.27\n",
      "F1:  0.27\n"
     ]
    }
   ],
   "source": [
    "print('F1: ', cros_val('f1', 'chebyshev', 'uniform', x_train, y_train, 3))\n",
    "print('F1: ', cros_val('f1', 'chebyshev', 'uniform', x_train, y_train, 5))\n",
    "print('F1: ', cros_val('f1', 'chebyshev', 'uniform', x_train, y_train, 7))\n",
    "print('F1: ', cros_val('f1', 'chebyshev', 'uniform', x_train, y_train, 9))\n",
    "print('F1: ', cros_val('f1', 'chebyshev', 'uniform', x_train, y_train, 15))"
   ]
  },
  {
   "cell_type": "code",
   "execution_count": 26,
   "metadata": {},
   "outputs": [
    {
     "name": "stdout",
     "output_type": "stream",
     "text": [
      "F1:  0.28\n",
      "F1:  0.29\n",
      "F1:  0.29\n",
      "F1:  0.3\n",
      "F1:  0.3\n"
     ]
    }
   ],
   "source": [
    "print('F1: ', cros_val('f1', 'chebyshev', 'distance', x_train, y_train, 3))\n",
    "print('F1: ', cros_val('f1', 'chebyshev', 'distance', x_train, y_train, 5))\n",
    "print('F1: ', cros_val('f1', 'chebyshev', 'distance', x_train, y_train, 7))\n",
    "print('F1: ', cros_val('f1', 'chebyshev', 'distance', x_train, y_train, 9))\n",
    "print('F1: ', cros_val('f1', 'chebyshev', 'distance', x_train, y_train, 15))"
   ]
  },
  {
   "cell_type": "code",
   "execution_count": 23,
   "metadata": {},
   "outputs": [
    {
     "name": "stdout",
     "output_type": "stream",
     "text": [
      "на тесте: F1 -  0.3425818242232929 accuracy -  0.80215\n",
      "на трейне: F1 -  1.0 accuracy -  1.0\n"
     ]
    }
   ],
   "source": [
    "knn = KNeighborsClassifier(n_neighbors=3, metric='manhattan', weights='distance')\n",
    "knn.fit(x_train, y_train)\n",
    "prediction = knn.predict(x_test)\n",
    "print('на тесте: F1 - ', f1_score(y_test, prediction), \n",
    "      'accuracy - ', accuracy_score(y_test, prediction))\n",
    "print('на трейне: F1 - ', f1_score(y_train, knn.predict(x_train)), \n",
    "       'accuracy - ', accuracy_score(y_train, knn.predict(x_train)))"
   ]
  },
  {
   "cell_type": "code",
   "execution_count": 32,
   "metadata": {},
   "outputs": [],
   "source": [
    "predictions_proba=knn.predict_proba(x_test)"
   ]
  },
  {
   "cell_type": "code",
   "execution_count": 33,
   "metadata": {},
   "outputs": [
    {
     "data": {
      "text/plain": [
       "0.6723214412271915"
      ]
     },
     "execution_count": 33,
     "metadata": {},
     "output_type": "execute_result"
    }
   ],
   "source": [
    "roc_auc_score(y_test, predictions_proba[:,1])"
   ]
  },
  {
   "cell_type": "code",
   "execution_count": null,
   "metadata": {},
   "outputs": [],
   "source": []
  }
 ],
 "metadata": {
  "kernelspec": {
   "display_name": "Python 3",
   "language": "python",
   "name": "python3"
  },
  "language_info": {
   "codemirror_mode": {
    "name": "ipython",
    "version": 3
   },
   "file_extension": ".py",
   "mimetype": "text/x-python",
   "name": "python",
   "nbconvert_exporter": "python",
   "pygments_lexer": "ipython3",
   "version": "3.6.5"
  }
 },
 "nbformat": 4,
 "nbformat_minor": 2
}
